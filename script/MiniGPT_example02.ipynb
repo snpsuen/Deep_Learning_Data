{
  "nbformat": 4,
  "nbformat_minor": 0,
  "metadata": {
    "colab": {
      "provenance": [],
      "gpuType": "T4",
      "authorship_tag": "ABX9TyP1nVBTe6BmqMpVQmaf6fq5",
      "include_colab_link": true
    },
    "kernelspec": {
      "name": "python3",
      "display_name": "Python 3"
    },
    "language_info": {
      "name": "python"
    },
    "accelerator": "GPU"
  },
  "cells": [
    {
      "cell_type": "markdown",
      "metadata": {
        "id": "view-in-github",
        "colab_type": "text"
      },
      "source": [
        "<a href=\"https://colab.research.google.com/github/snpsuen/Deep_Learning_Data/blob/main/script/MiniGPT_example02.ipynb\" target=\"_parent\"><img src=\"https://colab.research.google.com/assets/colab-badge.svg\" alt=\"Open In Colab\"/></a>"
      ]
    },
    {
      "cell_type": "code",
      "execution_count": 6,
      "metadata": {
        "colab": {
          "base_uri": "https://localhost:8080/"
        },
        "id": "yDsT5YZKMp8L",
        "outputId": "720970b3-d5f7-459e-9681-d27c61f0b49b"
      },
      "outputs": [
        {
          "output_type": "stream",
          "name": "stdout",
          "text": [
            "--2025-07-19 19:43:26--  https://www.gutenberg.org/cache/epub/1504/pg1504.txt\n",
            "Resolving www.gutenberg.org (www.gutenberg.org)... 152.19.134.47, 2610:28:3090:3000:0:bad:cafe:47\n",
            "Connecting to www.gutenberg.org (www.gutenberg.org)|152.19.134.47|:443... connected.\n",
            "HTTP request sent, awaiting response... 200 OK\n",
            "Length: 112380 (110K) [text/plain]\n",
            "Saving to: ‘corpus.txt’\n",
            "\n",
            "corpus.txt          100%[===================>] 109.75K  --.-KB/s    in 0.05s   \n",
            "\n",
            "2025-07-19 19:43:27 (2.00 MB/s) - ‘corpus.txt’ saved [112380/112380]\n",
            "\n"
          ]
        }
      ],
      "source": [
        "!wget https://www.gutenberg.org/cache/epub/1504/pg1504.txt -O corpus.txt\n",
        "import torch\n",
        "import torch.nn as nn\n",
        "import torch.nn.functional as F\n",
        "import re\n",
        "\n",
        "# --- Config ---\n",
        "device = 'cuda' if torch.cuda.is_available() else 'cpu'\n",
        "batch_size, block_size = 16, 64\n",
        "max_iters, eval_interval = 500, 100\n",
        "lr, n_embd, n_head, n_layer = 1e-3, 128, 4, 2\n",
        "dropout = 0.1"
      ]
    },
    {
      "cell_type": "code",
      "source": [
        "# --- Load and tokenize corpus (word-level) ---\n",
        "with open('corpus.txt', 'r', encoding='utf-8') as f:\n",
        "    text = f.read()\n",
        "\n",
        "# Tokenize into words and punctuation\n",
        "words = re.findall(r\"\\b\\w+\\b|[^\\w\\s]\", text)\n",
        "vocab = sorted(set(words))\n",
        "vocab_size = len(vocab)\n",
        "stoi = {w:i for i,w in enumerate(vocab)}\n",
        "itos = {i:w for w,i in stoi.items()}\n",
        "encode = lambda s: [stoi[w] for w in re.findall(r\"\\b\\w+\\b|[^\\w\\s]\", s) if w in stoi]\n",
        "decode = lambda idxs: ' '.join([itos[i] for i in idxs])\n",
        "\n",
        "print(f\"Vocab size (word-level): {vocab_size}\")\n",
        "\n",
        "# Convert full corpus to token IDs\n",
        "data = torch.tensor(encode(text), dtype=torch.long)\n",
        "x, y = data[:-1], data[1:]\n",
        "\n",
        "# --- Batching ---\n",
        "def get_batch():\n",
        "    ix = torch.randint(len(x) - block_size, (batch_size,))\n",
        "    xb = torch.stack([x[i:i+block_size] for i in ix]).to(device)\n",
        "    yb = torch.stack([y[i:i+block_size] for i in ix]).to(device)\n",
        "    return xb, yb"
      ],
      "metadata": {
        "colab": {
          "base_uri": "https://localhost:8080/"
        },
        "id": "pLMiUhihM-NA",
        "outputId": "eb452ae4-236c-4435-d67d-fda0783b339d"
      },
      "execution_count": 8,
      "outputs": [
        {
          "output_type": "stream",
          "name": "stdout",
          "text": [
            "Vocab size (word-level): 3387\n"
          ]
        }
      ]
    },
    {
      "cell_type": "code",
      "source": [
        "# --- Model Components ---\n",
        "class Head(nn.Module):\n",
        "    def __init__(self, head_size):\n",
        "        super().__init__()\n",
        "        self.key = nn.Linear(n_embd, head_size, bias=False)\n",
        "        self.query = nn.Linear(n_embd, head_size, bias=False)\n",
        "        self.value = nn.Linear(n_embd, head_size, bias=False)\n",
        "        self.register_buffer('tril', torch.tril(torch.ones(block_size, block_size)))\n",
        "        self.dropout = nn.Dropout(dropout)\n",
        "\n",
        "    def forward(self, x):\n",
        "        B, T, C = x.shape\n",
        "        k = self.key(x)\n",
        "        q = self.query(x)\n",
        "        wei = q @ k.transpose(-2, -1) * C**-0.5\n",
        "        wei = wei.masked_fill(self.tril[:T, :T] == 0, float('-inf'))\n",
        "        wei = F.softmax(wei, dim=-1)\n",
        "        wei = self.dropout(wei)\n",
        "        v = self.value(x)\n",
        "        return wei @ v\n",
        "\n",
        "class MultiHead(nn.Module):\n",
        "    def __init__(self):\n",
        "        super().__init__()\n",
        "        head_size = n_embd // n_head\n",
        "        self.heads = nn.ModuleList([Head(head_size) for _ in range(n_head)])\n",
        "        self.proj = nn.Linear(n_embd, n_embd)\n",
        "        self.dropout = nn.Dropout(dropout)\n",
        "\n",
        "    def forward(self, x):\n",
        "        return self.dropout(self.proj(torch.cat([h(x) for h in self.heads], dim=-1)))\n",
        "\n",
        "class FeedForward(nn.Module):\n",
        "    def __init__(self):\n",
        "        super().__init__()\n",
        "        self.net = nn.Sequential(\n",
        "            nn.Linear(n_embd, 4 * n_embd),\n",
        "            nn.ReLU(),\n",
        "            nn.Linear(4 * n_embd, n_embd),\n",
        "            nn.Dropout(dropout)\n",
        "        )\n",
        "\n",
        "    def forward(self, x):\n",
        "        return self.net(x)\n",
        "\n",
        "class Block(nn.Module):\n",
        "    def __init__(self):\n",
        "        super().__init__()\n",
        "        self.ln1 = nn.LayerNorm(n_embd)\n",
        "        self.ln2 = nn.LayerNorm(n_embd)\n",
        "        self.sa = MultiHead()\n",
        "        self.ff = FeedForward()\n",
        "\n",
        "    def forward(self, x):\n",
        "        x = x + self.sa(self.ln1(x))\n",
        "        x = x + self.ff(self.ln2(x))\n",
        "        return x\n",
        "\n",
        "class MiniLLM(nn.Module):\n",
        "    def __init__(self):\n",
        "        super().__init__()\n",
        "        self.tok_emb = nn.Embedding(vocab_size, n_embd)\n",
        "        self.pos_emb = nn.Embedding(block_size, n_embd)\n",
        "        self.blocks = nn.Sequential(*[Block() for _ in range(n_layer)])\n",
        "        self.ln_f = nn.LayerNorm(n_embd)\n",
        "        self.head = nn.Linear(n_embd, vocab_size)\n",
        "\n",
        "    def forward(self, idx, targets=None):\n",
        "        B, T = idx.size()\n",
        "        tok = self.tok_emb(idx)\n",
        "        pos = self.pos_emb(torch.arange(T, device=device))\n",
        "        x = tok + pos\n",
        "        x = self.blocks(x)\n",
        "        x = self.ln_f(x)\n",
        "        logits = self.head(x)\n",
        "        loss = F.cross_entropy(logits.view(-1, vocab_size), targets.view(-1)) if targets is not None else None\n",
        "        return logits, loss\n",
        "\n",
        "    def generate(self, idx, max_new):\n",
        "        for _ in range(max_new):\n",
        "            idx_cond = idx[:, -block_size:]\n",
        "            logits, _ = self(idx_cond)\n",
        "            probs = F.softmax(logits[:, -1], dim=-1)\n",
        "            idx_next = torch.multinomial(probs, num_samples=1)\n",
        "            idx = torch.cat([idx, idx_next], dim=1)\n",
        "        return idx\n",
        "\n",
        "# --- Initialize model ---\n",
        "model = MiniLLM().to(device)\n",
        "opt = torch.optim.AdamW(model.parameters(), lr=lr)"
      ],
      "metadata": {
        "id": "RJbSmf63NVkR"
      },
      "execution_count": 9,
      "outputs": []
    },
    {
      "cell_type": "code",
      "source": [
        "# --- Training ---\n",
        "for it in range(max_iters):\n",
        "    xb, yb = get_batch()\n",
        "    _, loss = model(xb, yb)\n",
        "    opt.zero_grad()\n",
        "    loss.backward()\n",
        "    opt.step()\n",
        "    if it % eval_interval == 0:\n",
        "        print(f\"Iter {it} | Loss: {loss.item():.4f}\")\n"
      ],
      "metadata": {
        "colab": {
          "base_uri": "https://localhost:8080/"
        },
        "id": "j1UYpAg0NynE",
        "outputId": "458e879e-ef7e-4b3b-9a9c-338d99bb6fda"
      },
      "execution_count": 10,
      "outputs": [
        {
          "output_type": "stream",
          "name": "stdout",
          "text": [
            "Iter 0 | Loss: 8.2971\n",
            "Iter 100 | Loss: 5.2861\n",
            "Iter 200 | Loss: 4.6306\n",
            "Iter 300 | Loss: 4.1066\n",
            "Iter 400 | Loss: 3.7800\n"
          ]
        }
      ]
    },
    {
      "cell_type": "code",
      "source": [
        "# --- Interactive Prompt ---\n",
        "print(\"\\n🎭 MiniLLM Interactive Mode (word-level) — type 'exit' to quit.\")\n",
        "while True:\n",
        "    prompt = input(\"\\nYou > \").strip()\n",
        "    if prompt.lower() in ['exit', 'quit']:\n",
        "        print(\"Goodbye!\")\n",
        "        break\n",
        "    if not prompt:\n",
        "        continue\n",
        "    try:\n",
        "        context = torch.tensor([encode(prompt)], dtype=torch.long).to(device)\n",
        "    except Exception as e:\n",
        "        print(f\"⚠️ Error: {e}\")\n",
        "        continue\n",
        "    out = model.generate(context, max_new=50)[0]\n",
        "    result = decode(out.tolist())\n",
        "    print(\"\\nMiniLLM >\", result[len(prompt.split()):])\n"
      ],
      "metadata": {
        "colab": {
          "base_uri": "https://localhost:8080/"
        },
        "id": "i6hE1pnWOLe9",
        "outputId": "343f03af-b281-4f43-ac1b-14f1821a780d"
      },
      "execution_count": 11,
      "outputs": [
        {
          "output_type": "stream",
          "name": "stdout",
          "text": [
            "\n",
            "🎭 MiniLLM Interactive Mode (word-level) — type 'exit' to quit.\n",
            "\n",
            "You > DUKE:\n",
            "\n",
            "MiniLLM > UKE : lifeless distracted thy brawls , warm incorporate , and beast . Patience charge a streets a deep who evil lost wreck of these witches ’ d calm , my sword than for arrival here and splitted return and again , and truce : English links provide league and not fetch\n",
            "\n",
            "You > What is the matter, sir? I know you not\n",
            "\n",
            "MiniLLM > he matter , sir ? I know you not . Quoth age no additional woman me be post for the Duke from wayward home . ANTIPHOLUS OF SYRACUSE . ANTIPHOLUS OF SYRACUSE . Thither told it under our small staff there , Which . Marry , and a charge saffron creature , who easy mayst , Would , worse\n",
            "\n",
            "You > Good sir, where is Antipholus?\n",
            "\n",
            "MiniLLM > sir , where is Antipholus ? DROMIO OF SYRACUSE . one ’ s man , that I am beaten ? then , Courtesan here you have him ? DROMIO OF SYRACUSE . She idly ’ s the abbey here , worse , that we thought home ? DROMIO OF SYRACUSE . And in flouting , the\n",
            "\n",
            "You > Anyway you want it\n",
            "\n",
            "MiniLLM > want it to dinner . LUCE . Along you love us . If you ’ d and the Project Gutenberg Literary Archive Foundation , , or thou peevish two hip in the use from those ) educational corporation organized License must come form accessible by our conference , So , not by\n",
            "\n",
            "You > Don't stop beliving\n",
            "\n",
            "MiniLLM > top it at large I have no gold old you did he foes ? Sleeping , the goldsmith slave , sir , or Arrest ’ s a sergeant to keep , take perforce is it ; We I shall be one owns a merry . ANTIPHOLUS OF EPHESUS . ANTIPHOLUS OF\n",
            "\n",
            "You > exit\n",
            "Goodbye!\n"
          ]
        }
      ]
    }
  ]
}