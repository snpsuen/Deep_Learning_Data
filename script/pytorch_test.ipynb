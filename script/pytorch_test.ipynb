{
  "nbformat": 4,
  "nbformat_minor": 0,
  "metadata": {
    "colab": {
      "provenance": [],
      "authorship_tag": "ABX9TyMWEDhKzOdRUXKpinMsdMIJ",
      "include_colab_link": true
    },
    "kernelspec": {
      "name": "python3",
      "display_name": "Python 3"
    },
    "language_info": {
      "name": "python"
    }
  },
  "cells": [
    {
      "cell_type": "markdown",
      "metadata": {
        "id": "view-in-github",
        "colab_type": "text"
      },
      "source": [
        "<a href=\"https://colab.research.google.com/github/snpsuen/Deep_Learning_Data/blob/main/script/pytorch_test.ipynb\" target=\"_parent\"><img src=\"https://colab.research.google.com/assets/colab-badge.svg\" alt=\"Open In Colab\"/></a>"
      ]
    },
    {
      "cell_type": "code",
      "execution_count": null,
      "metadata": {
        "id": "YzWX736DNbPM"
      },
      "outputs": [],
      "source": [
        "import torch\n",
        "import pandas as pd"
      ]
    },
    {
      "cell_type": "code",
      "source": [
        "# Initializing the nested list with Data set\n",
        "player_list = [['M.S.Dhoni', 36, 75, 5428000],\n",
        "               ['A.B.D Villers', 38, 74, 3428000],\n",
        "               ['V.Kohli', 31, 70, 8428000],\n",
        "               ['S.Smith', 34, 80, 4428000],\n",
        "               ['C.Gayle', 40, 100, 4528000],\n",
        "               ['J.Root', 33, 72, 7028000],\n",
        "               ['K.Peterson', 42, 85, 2528000]]\n",
        "\n",
        "# creating a pandas dataframe\n",
        "df = pd.DataFrame(player_list, columns=['Name', 'Age', 'Weight', 'Salary'])\n",
        "print(\"df = \")\n",
        "print(df) # data frame before slicing\n",
        "print(\"df.shape = \", df.shape) # data frame before slicing\n",
        "print(\"df.iloc[1,2] = \", df.iloc[1,2])\n",
        "print(\"df.iloc[1:4, -1] = \")\n",
        "print(df.iloc[1:4, -1])\n",
        "print(\"df.iloc[1:4, -1].shape = \", df.iloc[1:4, -1].shape)\n",
        "print(\"df[\\\"Weight\\\"] = \")\n",
        "print(df[\"Weight\"])\n",
        "print(\"df[\\\"Weight\\\"].shape = \", df[\"Weight\"].shape)\n",
        "print(\"df.loc[5] = \")\n",
        "print(df.loc[5])\n",
        "print(\"df.loc[5].shape = \", df.loc[5].shape)\n",
        "print(\"df.loc[1:5] = \")\n",
        "print(df.loc[1:5])\n",
        "print(\"df.loc[1:5].shape = \", df.loc[1:5].shape)\n",
        "df_weight = df[\"Weight\"].values.reshape(-1, 1)\n",
        "print(\"df_weight type = \", type(df_weight.shape))\n",
        "print(\"df_weight.shape = \", df_weight.shape)\n",
        "print(\"df_weight = \")\n",
        "print(df_weight)"
      ],
      "metadata": {
        "colab": {
          "base_uri": "https://localhost:8080/"
        },
        "id": "qu3DpQcsXRF0",
        "outputId": "6e581907-4294-4dae-df07-593760f8321e"
      },
      "execution_count": null,
      "outputs": [
        {
          "output_type": "stream",
          "name": "stdout",
          "text": [
            "df = \n",
            "            Name  Age  Weight   Salary\n",
            "0      M.S.Dhoni   36      75  5428000\n",
            "1  A.B.D Villers   38      74  3428000\n",
            "2        V.Kohli   31      70  8428000\n",
            "3        S.Smith   34      80  4428000\n",
            "4        C.Gayle   40     100  4528000\n",
            "5         J.Root   33      72  7028000\n",
            "6     K.Peterson   42      85  2528000\n",
            "df.shape =  (7, 4)\n",
            "df.iloc[1,2] =  74\n",
            "df.iloc[1:4, -1] = \n",
            "1    3428000\n",
            "2    8428000\n",
            "3    4428000\n",
            "Name: Salary, dtype: int64\n",
            "df.iloc[1:4, -1].shape =  (3,)\n",
            "df[\"Weight\"] = \n",
            "0     75\n",
            "1     74\n",
            "2     70\n",
            "3     80\n",
            "4    100\n",
            "5     72\n",
            "6     85\n",
            "Name: Weight, dtype: int64\n",
            "df[\"Weight\"].shape =  (7,)\n",
            "df.loc[5] = \n",
            "Name       J.Root\n",
            "Age            33\n",
            "Weight         72\n",
            "Salary    7028000\n",
            "Name: 5, dtype: object\n",
            "df.loc[5].shape =  (4,)\n",
            "df.loc[1:5] = \n",
            "            Name  Age  Weight   Salary\n",
            "1  A.B.D Villers   38      74  3428000\n",
            "2        V.Kohli   31      70  8428000\n",
            "3        S.Smith   34      80  4428000\n",
            "4        C.Gayle   40     100  4528000\n",
            "5         J.Root   33      72  7028000\n",
            "df.loc[1:5].shape =  (5, 4)\n",
            "df_weight type =  <class 'tuple'>\n",
            "df_weight.shape =  (7, 1)\n",
            "df_weight = \n",
            "[[ 75]\n",
            " [ 74]\n",
            " [ 70]\n",
            " [ 80]\n",
            " [100]\n",
            " [ 72]\n",
            " [ 85]]\n"
          ]
        }
      ]
    },
    {
      "cell_type": "code",
      "source": [
        "tenrand = torch.randn((1,2,3,4))\n",
        "print(\"tenrand.shape = \", tenrand.shape)\n",
        "print(\"tensorand = \")\n",
        "print(tenrand)\n",
        "\n",
        "timeseries = torch.randn((5, 4, 1))\n",
        "print(\"timeseries.shape = \", timeseries.shape)\n",
        "print(\"timeseries = \")\n",
        "print(timeseries)\n",
        "\n",
        "timeseries = torch.randn((7, 5))\n",
        "print(\"timeseries.shape = \", timeseries.shape)\n",
        "print(\"timeseries = \")\n",
        "print(timeseries)\n",
        "\n",
        "timeseries = torch.randn((2, 3, 4))\n",
        "print(\"timeseries.shape = \", timeseries.shape)\n",
        "print(\"timeseries = \")\n",
        "print(timeseries)\n",
        "print(\"timeseries[:, -1, :] = \")\n",
        "print(timeseries[:, -1, :])\n"
      ],
      "metadata": {
        "colab": {
          "base_uri": "https://localhost:8080/"
        },
        "id": "vXfYINr8NlC1",
        "outputId": "b2a908ee-bae4-45a3-81a3-be243ebbdab5"
      },
      "execution_count": null,
      "outputs": [
        {
          "output_type": "stream",
          "name": "stdout",
          "text": [
            "tenrand.shape =  torch.Size([1, 2, 3, 4])\n",
            "tensorand = \n",
            "tensor([[[[-3.9541e-01, -3.1831e-02,  7.9321e-01, -1.9636e-01],\n",
            "          [ 9.7644e-01,  6.0231e-01, -5.6331e-01, -3.3942e-01],\n",
            "          [-2.1515e-01,  3.6406e-01, -1.9803e+00, -2.8816e-01]],\n",
            "\n",
            "         [[ 7.5726e-01, -3.6563e-01, -6.0421e-01,  1.4058e+00],\n",
            "          [-8.1480e-01, -3.4860e-01,  1.6913e+00,  1.2646e-03],\n",
            "          [ 1.1294e+00,  5.2725e-01, -1.4075e+00,  4.1270e-01]]]])\n",
            "timeseries.shape =  torch.Size([5, 4, 1])\n",
            "timeseries = \n",
            "tensor([[[ 0.2234],\n",
            "         [-0.9372],\n",
            "         [-0.1228],\n",
            "         [-0.8656]],\n",
            "\n",
            "        [[-0.1325],\n",
            "         [ 0.7211],\n",
            "         [ 1.1865],\n",
            "         [-1.3329]],\n",
            "\n",
            "        [[-0.7214],\n",
            "         [-1.1662],\n",
            "         [-0.0925],\n",
            "         [ 0.8107]],\n",
            "\n",
            "        [[-0.0552],\n",
            "         [-0.7269],\n",
            "         [ 1.9000],\n",
            "         [ 1.2182]],\n",
            "\n",
            "        [[ 0.3807],\n",
            "         [-1.3056],\n",
            "         [ 0.3784],\n",
            "         [-0.5752]]])\n",
            "timeseries.shape =  torch.Size([7, 5])\n",
            "timeseries = \n",
            "tensor([[-0.5814,  0.7935, -0.4339,  0.3668, -1.6763],\n",
            "        [ 1.3626,  0.6686,  0.4040,  0.5097, -0.0177],\n",
            "        [-0.2603, -0.0560, -0.3637, -0.2903, -0.9094],\n",
            "        [-1.0927,  0.0066,  1.0414, -0.6540, -0.7100],\n",
            "        [-1.3483, -0.8899,  0.3289, -0.8523,  0.0563],\n",
            "        [-0.4186,  0.0834, -1.3741,  0.4675,  0.3299],\n",
            "        [-1.5646, -0.6406,  0.2263,  1.5365,  0.3810]])\n",
            "timeseries.shape =  torch.Size([2, 3, 4])\n",
            "timeseries = \n",
            "tensor([[[ 1.6776e+00,  3.1574e-01,  8.1179e-01, -5.7977e-01],\n",
            "         [-1.2611e-03,  1.5680e+00, -7.6838e-01, -1.7909e+00],\n",
            "         [ 6.0457e-01, -1.7886e-01,  5.3895e-01,  4.1737e-01]],\n",
            "\n",
            "        [[ 1.0724e+00,  2.0877e+00,  7.9396e-02, -3.4038e-01],\n",
            "         [ 2.1064e+00, -1.9749e-01, -7.4035e-01, -1.9450e+00],\n",
            "         [ 3.6748e-01, -3.8351e-01, -1.9750e+00, -6.8632e-01]]])\n",
            "timeseries[:, -1, :] = \n",
            "tensor([[ 0.6046, -0.1789,  0.5390,  0.4174],\n",
            "        [ 0.3675, -0.3835, -1.9750, -0.6863]])\n"
          ]
        }
      ]
    },
    {
      "cell_type": "code",
      "source": [
        "import torch.nn as nn\n",
        "\n",
        "# Batch size = 4, Channel depth = 3, Height pixel number = 28 , Width pixel number = 28\n",
        "input = torch.randn(4, 3, 28, 28)\n",
        "\n",
        "# Targted for output height pixel number = 5 , width pixel number = 5\n",
        "aapool = nn.AdaptiveAvgPool2d((5, 5))\n",
        "output = aapool(input)\n",
        "print(\"Input size:\", input.shape)\n",
        "print(\"Output size:\", output.shape)"
      ],
      "metadata": {
        "colab": {
          "base_uri": "https://localhost:8080/"
        },
        "id": "Wm6BqhwY5VYm",
        "outputId": "210b6992-b285-4f55-ab84-f8ed9bc5f420"
      },
      "execution_count": null,
      "outputs": [
        {
          "output_type": "stream",
          "name": "stdout",
          "text": [
            "Input size: torch.Size([4, 3, 28, 28])\n",
            "Output size: torch.Size([4, 3, 5, 5])\n"
          ]
        }
      ]
    },
    {
      "cell_type": "code",
      "source": [
        "input = torch.randn(2, 3, 4, 4)\n",
        "apool = nn.AdaptiveAvgPool2d((2, 2))\n",
        "output = apool(input)\n",
        "print(\"Input size:\", input.shape)\n",
        "print (\"input = \")\n",
        "print (input)\n",
        "print(\"Output size:\", output.shape)\n",
        "print (\"output = \")\n",
        "print (output)"
      ],
      "metadata": {
        "colab": {
          "base_uri": "https://localhost:8080/"
        },
        "id": "IdfCbdFi-I5d",
        "outputId": "9e99acc8-7914-4890-a30a-bbf7aba919f2"
      },
      "execution_count": null,
      "outputs": [
        {
          "output_type": "stream",
          "name": "stdout",
          "text": [
            "Input size: torch.Size([2, 3, 4, 4])\n",
            "input = \n",
            "tensor([[[[ 0.7402, -0.3017, -0.8718,  1.7972],\n",
            "          [ 1.3465, -0.6403,  0.6707,  1.3998],\n",
            "          [ 1.8476,  0.6210,  2.2221, -0.7551],\n",
            "          [-0.3642, -0.3877,  1.3109, -0.4864]],\n",
            "\n",
            "         [[-0.8821,  0.8965, -1.5119, -1.0204],\n",
            "          [-1.3951, -1.9064,  0.0149,  0.6144],\n",
            "          [-0.1216, -1.0375, -0.3479, -0.4708],\n",
            "          [-0.4151, -0.3886,  0.2075,  0.5234]],\n",
            "\n",
            "         [[-1.2403, -0.0114,  1.0724, -0.0848],\n",
            "          [-0.1619, -0.8968,  1.2232,  0.2989],\n",
            "          [ 1.0623, -0.3994,  1.4847,  1.4419],\n",
            "          [-1.1213,  2.7476,  0.9469,  0.5783]]],\n",
            "\n",
            "\n",
            "        [[[-0.6234,  0.3551, -0.4497,  0.2220],\n",
            "          [-0.2099, -1.3281,  1.6052,  0.4037],\n",
            "          [-1.6348, -1.7073,  2.0141, -0.3546],\n",
            "          [-1.8267, -0.2032,  0.0993,  0.2665]],\n",
            "\n",
            "         [[ 1.0979,  1.5328, -0.4804,  1.4254],\n",
            "          [-0.3731, -1.0780, -0.7068,  0.6561],\n",
            "          [ 0.5912,  1.0715, -1.1533,  0.6214],\n",
            "          [ 0.0241, -0.0553, -1.7940, -1.4381]],\n",
            "\n",
            "         [[ 0.1632,  1.7428,  1.2676, -0.4119],\n",
            "          [ 0.7672,  0.2112, -0.0640,  1.1549],\n",
            "          [-0.2750,  0.1731, -1.6714,  1.6508],\n",
            "          [-0.7652,  0.4891, -0.6734,  0.4958]]]])\n",
            "Output size: torch.Size([2, 3, 2, 2])\n",
            "output = \n",
            "tensor([[[[ 0.2862,  0.7490],\n",
            "          [ 0.4292,  0.5729]],\n",
            "\n",
            "         [[-0.8218, -0.4758],\n",
            "          [-0.4907, -0.0219]],\n",
            "\n",
            "         [[-0.5776,  0.6274],\n",
            "          [ 0.5723,  1.1130]]],\n",
            "\n",
            "\n",
            "        [[[-0.4516,  0.4453],\n",
            "          [-1.3430,  0.5063]],\n",
            "\n",
            "         [[ 0.2949,  0.2236],\n",
            "          [ 0.4079, -0.9410]],\n",
            "\n",
            "         [[ 0.7211,  0.4867],\n",
            "          [-0.0945, -0.0495]]]])\n"
          ]
        }
      ]
    },
    {
      "cell_type": "code",
      "source": [
        "input = torch.randn(2, 3, 4, 4)\n",
        "ampool = nn.AdaptiveMaxPool2d((2, 2))\n",
        "output = ampool(input)\n",
        "print(\"Input size:\", input.shape)\n",
        "print(\"input = \")\n",
        "print(input)\n",
        "print(\"Output size:\", output.shape)\n",
        "print(\"output = \")\n",
        "print(output)"
      ],
      "metadata": {
        "colab": {
          "base_uri": "https://localhost:8080/"
        },
        "id": "sGCgS6p7S5EP",
        "outputId": "dd35836d-e481-46ac-cbab-593f863d98b4"
      },
      "execution_count": null,
      "outputs": [
        {
          "output_type": "stream",
          "name": "stdout",
          "text": [
            "Input size: torch.Size([2, 3, 4, 4])\n",
            "input = \n",
            "tensor([[[[ 0.9565,  0.6426,  0.8628, -0.9974],\n",
            "          [-0.9997,  1.0540,  1.6085,  1.4973],\n",
            "          [ 0.1855,  0.6583, -0.6347, -0.4459],\n",
            "          [-0.4817,  0.7899, -0.8081, -0.3242]],\n",
            "\n",
            "         [[ 1.7273,  0.1410,  1.2217,  1.5502],\n",
            "          [ 0.2866,  0.1459, -0.7480,  1.2656],\n",
            "          [ 0.4870, -0.9406, -0.8528,  0.1662],\n",
            "          [ 0.5025,  0.2308, -1.1219,  1.3817]],\n",
            "\n",
            "         [[-0.1648, -0.5748,  0.1158, -1.4456],\n",
            "          [ 1.6752, -0.9980, -0.6083, -0.5766],\n",
            "          [ 0.3753,  1.8761, -0.3326,  0.8525],\n",
            "          [-0.8516,  0.0472,  0.3284, -1.7723]]],\n",
            "\n",
            "\n",
            "        [[[ 0.1988,  0.1214, -1.2587,  0.8269],\n",
            "          [ 0.6346, -0.5131,  0.7331,  2.7048],\n",
            "          [-1.4852,  1.1846,  1.1674, -0.1521],\n",
            "          [-0.6560, -1.3812,  0.2106,  0.6720]],\n",
            "\n",
            "         [[ 0.6054, -1.7214,  1.4283,  1.4220],\n",
            "          [-0.5423, -1.0364,  0.9938,  0.1923],\n",
            "          [-0.8702,  0.9663, -0.3929, -0.4316],\n",
            "          [ 0.6359, -1.1034, -2.2647, -1.3988]],\n",
            "\n",
            "         [[ 1.0879,  0.1467,  1.7672,  0.7580],\n",
            "          [ 1.0298, -0.4417,  1.4020,  1.1274],\n",
            "          [ 0.5617,  1.0209, -0.9630, -1.4902],\n",
            "          [ 0.2746, -0.5844,  0.5929, -1.4379]]]])\n",
            "Output size: torch.Size([2, 3, 2, 2])\n",
            "output = \n",
            "tensor([[[[ 1.0540,  1.6085],\n",
            "          [ 0.7899, -0.3242]],\n",
            "\n",
            "         [[ 1.7273,  1.5502],\n",
            "          [ 0.5025,  1.3817]],\n",
            "\n",
            "         [[ 1.6752,  0.1158],\n",
            "          [ 1.8761,  0.8525]]],\n",
            "\n",
            "\n",
            "        [[[ 0.6346,  2.7048],\n",
            "          [ 1.1846,  1.1674]],\n",
            "\n",
            "         [[ 0.6054,  1.4283],\n",
            "          [ 0.9663, -0.3929]],\n",
            "\n",
            "         [[ 1.0879,  1.7672],\n",
            "          [ 1.0209,  0.5929]]]])\n"
          ]
        }
      ]
    }
  ]
}