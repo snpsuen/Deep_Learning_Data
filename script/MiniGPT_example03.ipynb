{
  "nbformat": 4,
  "nbformat_minor": 0,
  "metadata": {
    "colab": {
      "provenance": [],
      "gpuType": "T4",
      "authorship_tag": "ABX9TyOcdpahqbBiiiDQL8HlZuQi",
      "include_colab_link": true
    },
    "kernelspec": {
      "name": "python3",
      "display_name": "Python 3"
    },
    "language_info": {
      "name": "python"
    },
    "accelerator": "GPU"
  },
  "cells": [
    {
      "cell_type": "markdown",
      "metadata": {
        "id": "view-in-github",
        "colab_type": "text"
      },
      "source": [
        "<a href=\"https://colab.research.google.com/github/snpsuen/Deep_Learning_Data/blob/main/script/MiniGPT_example03.ipynb\" target=\"_parent\"><img src=\"https://colab.research.google.com/assets/colab-badge.svg\" alt=\"Open In Colab\"/></a>"
      ]
    },
    {
      "cell_type": "code",
      "execution_count": 1,
      "metadata": {
        "colab": {
          "base_uri": "https://localhost:8080/"
        },
        "id": "yDsT5YZKMp8L",
        "outputId": "74613ccc-f960-4fc8-a944-5aff309ad532"
      },
      "outputs": [
        {
          "output_type": "stream",
          "name": "stdout",
          "text": [
            "--2025-08-06 15:05:44--  https://www.gutenberg.org/cache/epub/1504/pg1504.txt\n",
            "Resolving www.gutenberg.org (www.gutenberg.org)... 152.19.134.47, 2610:28:3090:3000:0:bad:cafe:47\n",
            "Connecting to www.gutenberg.org (www.gutenberg.org)|152.19.134.47|:443... connected.\n",
            "HTTP request sent, awaiting response... 200 OK\n",
            "Length: 112380 (110K) [text/plain]\n",
            "Saving to: ‘corpus.txt’\n",
            "\n",
            "corpus.txt          100%[===================>] 109.75K   393KB/s    in 0.3s    \n",
            "\n",
            "2025-08-06 15:05:45 (393 KB/s) - ‘corpus.txt’ saved [112380/112380]\n",
            "\n"
          ]
        }
      ],
      "source": [
        "!wget https://www.gutenberg.org/cache/epub/1504/pg1504.txt -O corpus.txt\n",
        "import torch\n",
        "import torch.nn as nn\n",
        "import torch.nn.functional as F\n",
        "import re\n",
        "\n",
        "# --- Config ---\n",
        "device = 'cuda' if torch.cuda.is_available() else 'cpu'\n",
        "batch_size, block_size = 16, 64\n",
        "max_iters, eval_interval = 500, 100\n",
        "lr, n_embd, n_head, n_layer = 1e-3, 128, 4, 2\n",
        "dropout = 0.1"
      ]
    },
    {
      "cell_type": "code",
      "source": [
        "# --- Load and tokenize corpus (word-level) ---\n",
        "with open('corpus.txt', 'r', encoding='utf-8') as f:\n",
        "    text = f.read()\n",
        "\n",
        "# Tokenize into words and punctuation\n",
        "words = re.findall(r\"\\b\\w+\\b|[^\\w\\s]\", text)\n",
        "vocab = sorted(set(words))\n",
        "vocab_size = len(vocab)\n",
        "stoi = {w:i for i,w in enumerate(vocab)}\n",
        "itos = {i:w for w,i in stoi.items()}\n",
        "encode = lambda s: [stoi[w] for w in re.findall(r\"\\b\\w+\\b|[^\\w\\s]\", s) if w in stoi]\n",
        "decode = lambda idxs: ' '.join([itos[i] for i in idxs])\n",
        "\n",
        "print(f\"type(words) = {type(words)}\")\n",
        "print(f\"Vocab size (word-level): {vocab_size}\")\n",
        "\n",
        "# Convert full corpus to token IDs\n",
        "data = torch.tensor(encode(text), dtype=torch.long)\n",
        "x, y = data[:-1], data[1:]\n",
        "\n",
        "print(f\"type(encode(text)) = {type(encode(text))}\")\n",
        "print(f\"type(data) = {type(data)}\")\n",
        "print(f\"data.shape = {data.shape}\")\n",
        "\n",
        "# --- Batching ---\n",
        "def get_batch():\n",
        "    ix = torch.randint(len(x) - block_size, (batch_size,))\n",
        "    xb = torch.stack([x[i:i+block_size] for i in ix]).to(device)\n",
        "    yb = torch.stack([y[i:i+block_size] for i in ix]).to(device)\n",
        "    return ix, xb, yb\n",
        "\n",
        "ix, xb, yb = get_batch()\n",
        "print(f\"ix.shape = {ix.shape}\")\n",
        "print(f\"xb.shape = {xb.shape}\")\n",
        "print(f\"yb.shape = {yb.shape}\")\n",
        "print(\"ix = \", ix)\n",
        "print(\"xb = \", xb)\n",
        "print(\"yb = \", yb)\n"
      ],
      "metadata": {
        "colab": {
          "base_uri": "https://localhost:8080/"
        },
        "id": "pLMiUhihM-NA",
        "outputId": "4ce17300-09c2-4be9-941a-40ae6125b3fe"
      },
      "execution_count": 2,
      "outputs": [
        {
          "output_type": "stream",
          "name": "stdout",
          "text": [
            "type(words) = <class 'list'>\n",
            "Vocab size (word-level): 3387\n",
            "type(encode(text)) = <class 'list'>\n",
            "type(data) = <class 'torch.Tensor'>\n",
            "data.shape = torch.Size([24688])\n",
            "ix.shape = torch.Size([16])\n",
            "xb.shape = torch.Size([16, 64])\n",
            "yb.shape = torch.Size([16, 64])\n",
            "ix =  tensor([24605,   955,  5957, 12060,   180,  9737, 10966, 12128, 23841, 12822,\n",
            "         9778,  5145, 23406, 16115,  1927, 11600])\n",
            "xb =  tensor([[1951, 1910,    9,  ..., 1867, 3078, 1815],\n",
            "        [2016, 1664,  235,  ..., 1456, 3381, 1214],\n",
            "        [ 869, 1149,   41,  ..., 1022,   40,  781],\n",
            "        ...,\n",
            "        [   9,  151,    7,  ..., 2204, 1815,  604],\n",
            "        [2333, 3372,  804,  ..., 1762, 3078, 1973],\n",
            "        [ 316, 1681, 1952,  ...,    7, 2703, 3283]])\n",
            "yb =  tensor([[1910,    9,  596,  ..., 3078, 1815, 2494],\n",
            "        [1664,  235, 1762,  ..., 3381, 1214,    7],\n",
            "        [1149,   41,  672,  ...,   40,  781, 3038],\n",
            "        ...,\n",
            "        [ 151,    7, 1955,  ..., 1815,  604, 1792],\n",
            "        [3372,  804, 2295,  ..., 3078, 1973,    9],\n",
            "        [1681, 1952, 3372,  ..., 2703, 3283, 3381]])\n"
          ]
        }
      ]
    },
    {
      "cell_type": "code",
      "source": [
        "# --- Model Components ---\n",
        "class Head(nn.Module):\n",
        "    def __init__(self, head_size):\n",
        "        super().__init__()\n",
        "        self.key = nn.Linear(n_embd, head_size, bias=False)\n",
        "        self.query = nn.Linear(n_embd, head_size, bias=False)\n",
        "        self.value = nn.Linear(n_embd, head_size, bias=False)\n",
        "        self.register_buffer('tril', torch.tril(torch.ones(block_size, block_size)))\n",
        "        self.dropout = nn.Dropout(dropout)\n",
        "\n",
        "    def forward(self, x):\n",
        "        B, T, C = x.shape\n",
        "        k = self.key(x)\n",
        "        q = self.query(x)\n",
        "        wei = q @ k.transpose(-2, -1) * C**-0.5\n",
        "        wei = wei.masked_fill(self.tril[:T, :T] == 0, float('-inf'))\n",
        "        wei = F.softmax(wei, dim=-1)\n",
        "        wei = self.dropout(wei)\n",
        "        v = self.value(x)\n",
        "        return wei @ v\n",
        "\n",
        "class MultiHead(nn.Module):\n",
        "    def __init__(self):\n",
        "        super().__init__()\n",
        "        head_size = n_embd // n_head\n",
        "        self.heads = nn.ModuleList([Head(head_size) for _ in range(n_head)])\n",
        "        self.proj = nn.Linear(n_embd, n_embd)\n",
        "        self.dropout = nn.Dropout(dropout)\n",
        "\n",
        "    def forward(self, x):\n",
        "        return self.dropout(self.proj(torch.cat([h(x) for h in self.heads], dim=-1)))\n",
        "\n",
        "class FeedForward(nn.Module):\n",
        "    def __init__(self):\n",
        "        super().__init__()\n",
        "        self.net = nn.Sequential(\n",
        "            nn.Linear(n_embd, 4 * n_embd),\n",
        "            nn.ReLU(),\n",
        "            nn.Linear(4 * n_embd, n_embd),\n",
        "            nn.Dropout(dropout)\n",
        "        )\n",
        "\n",
        "    def forward(self, x):\n",
        "        return self.net(x)\n",
        "\n",
        "class Block(nn.Module):\n",
        "    def __init__(self):\n",
        "        super().__init__()\n",
        "        self.ln1 = nn.LayerNorm(n_embd)\n",
        "        self.ln2 = nn.LayerNorm(n_embd)\n",
        "        self.sa = MultiHead()\n",
        "        self.ff = FeedForward()\n",
        "\n",
        "    def forward(self, x):\n",
        "        x = x + self.sa(self.ln1(x))\n",
        "        x = x + self.ff(self.ln2(x))\n",
        "        return x\n",
        "\n",
        "class MiniLLM(nn.Module):\n",
        "    def __init__(self):\n",
        "        super().__init__()\n",
        "        self.tok_emb = nn.Embedding(vocab_size, n_embd)\n",
        "        self.pos_emb = nn.Embedding(block_size, n_embd)\n",
        "        self.blocks = nn.Sequential(*[Block() for _ in range(n_layer)])\n",
        "        self.ln_f = nn.LayerNorm(n_embd)\n",
        "        self.head = nn.Linear(n_embd, vocab_size)\n",
        "\n",
        "    def forward(self, idx, targets, debug_print):\n",
        "        B, T = idx.size()\n",
        "        tok = self.tok_emb(idx)\n",
        "        pos = self.pos_emb(torch.arange(T, device=device))\n",
        "        x = tok + pos\n",
        "        x = self.blocks(x)\n",
        "        x = self.ln_f(x)\n",
        "        logits = self.head(x)\n",
        "        loss = F.cross_entropy(logits.view(-1, vocab_size), targets.view(-1)) if targets is not None else None\n",
        "\n",
        "        if debug_print == 1:\n",
        "            print(\"logits.shape = \", logits.shape)\n",
        "            print(\"targets.shape = \", targets.shape)\n",
        "            print(\"logits.view(-1, vocab_size).shape = \", logits.view(-1, vocab_size).shape)\n",
        "            print(\"targets.view(-1).shape = \", targets.view(-1).shape)\n",
        "\n",
        "        return logits, loss\n",
        "\n",
        "    def generate(self, idx, max_new):\n",
        "        for _ in range(max_new):\n",
        "            idx_cond = idx[:, -block_size:]\n",
        "            logits, _ = self(idx_cond, None, 0)\n",
        "            probs = F.softmax(logits[:, -1], dim=-1)\n",
        "            idx_next = torch.multinomial(probs, num_samples=1)\n",
        "            idx = torch.cat([idx, idx_next], dim=1)\n",
        "        return idx\n",
        "\n",
        "# --- Initialize model ---\n",
        "model = MiniLLM().to(device)\n",
        "opt = torch.optim.AdamW(model.parameters(), lr=lr)"
      ],
      "metadata": {
        "id": "RJbSmf63NVkR"
      },
      "execution_count": 3,
      "outputs": []
    },
    {
      "cell_type": "code",
      "source": [
        "# --- Training ---\n",
        "first = 1\n",
        "for it in range(max_iters):\n",
        "    ix, xb, yb = get_batch()\n",
        "    if first == 1:\n",
        "        first = 0\n",
        "        _, loss = model(xb, yb, 1)\n",
        "    else:\n",
        "        _, loss = model(xb, yb, 0)\n",
        "    opt.zero_grad()\n",
        "    loss.backward()\n",
        "    opt.step()\n",
        "    if it % eval_interval == 0:\n",
        "        print(f\"Iter {it} | Loss: {loss.item():.4f}\")"
      ],
      "metadata": {
        "colab": {
          "base_uri": "https://localhost:8080/"
        },
        "id": "j1UYpAg0NynE",
        "outputId": "e8bb4b9b-80e3-46f3-b7bd-50e7501d426c"
      },
      "execution_count": 4,
      "outputs": [
        {
          "output_type": "stream",
          "name": "stdout",
          "text": [
            "logits.shape =  torch.Size([16, 64, 3387])\n",
            "targets.shape =  torch.Size([16, 64])\n",
            "logits.view(-1, vocab_size).shape =  torch.Size([1024, 3387])\n",
            "targets.view(-1).shape =  torch.Size([1024])\n",
            "Iter 0 | Loss: 8.2740\n",
            "Iter 100 | Loss: 5.1812\n",
            "Iter 200 | Loss: 4.7362\n",
            "Iter 300 | Loss: 3.9620\n",
            "Iter 400 | Loss: 3.6110\n"
          ]
        }
      ]
    },
    {
      "cell_type": "code",
      "source": [
        "# --- Interactive Prompt ---\n",
        "print(\"\\n🎭 MiniLLM Interactive Mode (word-level) — type 'exit' to quit.\")\n",
        "while True:\n",
        "    prompt = input(\"\\nYou > \").strip()\n",
        "    if prompt.lower() in ['exit', 'quit']:\n",
        "        print(\"Goodbye!\")\n",
        "        break\n",
        "    if not prompt:\n",
        "        continue\n",
        "    try:\n",
        "        context = torch.tensor([encode(prompt)], dtype=torch.long).to(device)\n",
        "    except Exception as e:\n",
        "        print(f\"⚠️ Error: {e}\")\n",
        "        continue\n",
        "    out = model.generate(context, max_new=50)[0]\n",
        "    result = decode(out.tolist())\n",
        "    print(\"\\nMiniLLM >\", result[len(prompt.split()):])\n"
      ],
      "metadata": {
        "colab": {
          "base_uri": "https://localhost:8080/"
        },
        "id": "i6hE1pnWOLe9",
        "outputId": "d328a148-9b25-4528-b91b-c7ad1e4d6667"
      },
      "execution_count": 5,
      "outputs": [
        {
          "output_type": "stream",
          "name": "stdout",
          "text": [
            "\n",
            "🎭 MiniLLM Interactive Mode (word-level) — type 'exit' to quit.\n",
            "\n",
            "You > A long long time ago\n",
            "\n",
            "MiniLLM > g long time to fast dealer it of this doors to his evening , I pray you must for me so his eye would gladly gave me a Messenger ever time , And , And piteous plainings , and dangers ’ d in my house , and vows in post ; and brought\n",
            "\n",
            "You > exit\n",
            "Goodbye!\n"
          ]
        }
      ]
    }
  ]
}