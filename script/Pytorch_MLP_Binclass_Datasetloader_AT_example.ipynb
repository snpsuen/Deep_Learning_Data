{
  "cells": [
    {
      "cell_type": "markdown",
      "metadata": {
        "id": "view-in-github",
        "colab_type": "text"
      },
      "source": [
        "<a href=\"https://colab.research.google.com/github/snpsuen/Deep_Learning_Data/blob/main/script/Pytorch_MLP_Binclass_Datasetloader_AT_example.ipynb\" target=\"_parent\"><img src=\"https://colab.research.google.com/assets/colab-badge.svg\" alt=\"Open In Colab\"/></a>"
      ]
    },
    {
      "cell_type": "code",
      "execution_count": 1,
      "metadata": {
        "id": "OxuuJTkQgTKs"
      },
      "outputs": [],
      "source": [
        "import pandas as pd\n",
        "import torch\n",
        "import torch.nn as nn\n",
        "import torch.optim as optim\n",
        "from torch.utils.data import Dataset, DataLoader, random_split, default_collate\n",
        "from sklearn.preprocessing import LabelEncoder\n",
        "from sklearn.metrics import accuracy_score\n",
        "from numpy import vstack"
      ]
    },
    {
      "cell_type": "code",
      "execution_count": 2,
      "metadata": {
        "colab": {
          "base_uri": "https://localhost:8080/"
        },
        "id": "0zRcj1aWhH98",
        "outputId": "c4a16b58-af49-47b8-fde1-fc538c2902f5"
      },
      "outputs": [
        {
          "output_type": "stream",
          "name": "stdout",
          "text": [
            "X shape =  (208, 60)\n",
            "Number of input samples =  208\n",
            "Number of input features =  60\n"
          ]
        }
      ],
      "source": [
        "# Read data, convert to NumPy arrays\n",
        "path = 'https://raw.githubusercontent.com/snpsuen/Deep_Learning_Data/refs/heads/main/dataset/sonar.csv'\n",
        "data = pd.read_csv(path)\n",
        "X = data.iloc[:, :-1].values\n",
        "y = data.iloc[:, -1].values\n",
        "\n",
        "print(\"X shape = \", X.shape)\n",
        "n_insamples = X.shape[0]\n",
        "n_inputs = X.shape[1]\n",
        "print(\"Number of input samples = \", n_insamples)\n",
        "print(\"Number of input features = \", n_inputs)"
      ]
    },
    {
      "cell_type": "code",
      "execution_count": 3,
      "metadata": {
        "colab": {
          "base_uri": "https://localhost:8080/"
        },
        "id": "aG6N50HlCKm5",
        "outputId": "9015a51a-4f85-4866-8aa9-b06fc3b2b8c7"
      },
      "outputs": [
        {
          "output_type": "stream",
          "name": "stdout",
          "text": [
            "y shape =  (208, 1)\n",
            "Number of output samples =  208\n",
            "Number of output targets =  1\n"
          ]
        }
      ],
      "source": [
        "# encode class values as integers\n",
        "encoder = LabelEncoder()\n",
        "encoder.fit(y)\n",
        "y = encoder.transform(y).reshape(-1, 1)\n",
        "\n",
        "print(\"y shape = \", y.shape)\n",
        "n_outsamples = y.shape[0]\n",
        "n_outputs = y.shape[1]\n",
        "print(\"Number of output samples = \", n_outsamples)\n",
        "print(\"Number of output targets = \", n_outputs)\n"
      ]
    },
    {
      "cell_type": "code",
      "execution_count": 4,
      "metadata": {
        "id": "iMS-h6MdCjY9"
      },
      "outputs": [],
      "source": [
        "# define sonar dataset\n",
        "class SonarDataset(Dataset):\n",
        "    def __init__(self, X, y):\n",
        "        # convert into PyTorch tensors and remember them\n",
        "        self.X = torch.tensor(X, dtype=torch.float32)\n",
        "        self.y = torch.tensor(y, dtype=torch.float32)\n",
        "\n",
        "    def __len__(self):\n",
        "        # this should return the size of the dataset\n",
        "        return len(self.X)\n",
        "\n",
        "    def __getitem__(self, idx):\n",
        "        # this should return one sample from the dataset\n",
        "        features = self.X[idx]\n",
        "        target = self.y[idx]\n",
        "        return features, target"
      ]
    },
    {
      "cell_type": "code",
      "execution_count": 5,
      "metadata": {
        "id": "MVbtC5DbE11R"
      },
      "outputs": [],
      "source": [
        "# set up DataLoaders for data set\n",
        "dataset = SonarDataset(X, y)\n",
        "trainset, testset = random_split(dataset, [0.7, 0.3])\n",
        "trainloader = DataLoader(trainset, shuffle=True, batch_size=16)\n",
        "testloader = DataLoader(testset, shuffle=True, batch_size=16)"
      ]
    },
    {
      "cell_type": "code",
      "execution_count": 6,
      "metadata": {
        "id": "J0oX56We7Elw"
      },
      "outputs": [],
      "source": [
        "# create model\n",
        "model = nn.Sequential(\n",
        "    nn.Linear(n_inputs, 60),\n",
        "    nn.ReLU(),\n",
        "    nn.Linear(60, 30),\n",
        "    nn.ReLU(),\n",
        "    nn.Linear(30, n_outputs),\n",
        "    nn.Sigmoid()\n",
        ")"
      ]
    },
    {
      "cell_type": "code",
      "execution_count": 7,
      "metadata": {
        "id": "RlGKUEYO7a3n"
      },
      "outputs": [],
      "source": [
        "# Train the model\n",
        "n_epochs = 200\n",
        "loss_fn = nn.BCELoss()\n",
        "optimizer = optim.SGD(model.parameters(), lr=0.1)\n",
        "model.train()\n",
        "for epoch in range(n_epochs):\n",
        "    for X_batch, y_batch in trainloader:\n",
        "        y_pred = model(X_batch)\n",
        "        loss = loss_fn(y_pred, y_batch)\n",
        "        optimizer.zero_grad()\n",
        "        loss.backward()\n",
        "        optimizer.step()"
      ]
    },
    {
      "cell_type": "code",
      "execution_count": 8,
      "metadata": {
        "colab": {
          "base_uri": "https://localhost:8080/"
        },
        "id": "p7V-yktj-YL_",
        "outputId": "af21cfa3-454d-46f9-fd3d-ae832658b265"
      },
      "outputs": [
        {
          "output_type": "stream",
          "name": "stdout",
          "text": [
            "Type of X_test:  <class 'torch.Tensor'>\n",
            "Type of y_test:  <class 'torch.Tensor'>\n",
            "X_test.shape =  torch.Size([62, 60])\n",
            "y_test.shape =  torch.Size([62, 1])\n",
            "Model accuracy: 82.26%\n"
          ]
        }
      ],
      "source": [
        "# create one test tensor from the testset\n",
        "X_test, y_test = default_collate(testset)\n",
        "print(\"Type of X_test: \", type(X_test))\n",
        "print(\"Type of y_test: \", type(y_test))\n",
        "print(\"X_test.shape = \", X_test.shape)\n",
        "print(\"y_test.shape = \", y_test.shape)\n",
        "\n",
        "model.eval()\n",
        "y_pred = model(X_test)\n",
        "acc = (y_pred.round() == y_test).float().mean()\n",
        "acc = float(acc)\n",
        "print(\"Model accuracy: %.2f%%\" % (acc*100))"
      ]
    },
    {
      "cell_type": "code",
      "execution_count": 9,
      "metadata": {
        "colab": {
          "base_uri": "https://localhost:8080/"
        },
        "id": "yxAdYfasE2C0",
        "outputId": "d456a02a-1e66-471f-a79f-ae4cca8c9178"
      },
      "outputs": [
        {
          "output_type": "stream",
          "name": "stdout",
          "text": [
            "Iteration i:  0\n",
            "Testloader X_batch.shape =  torch.Size([16, 60])\n",
            "Testloader y_batch.shape =  torch.Size([16, 1])\n",
            "yhat.shape =  (16, 1)\n",
            "yact.shape =  (16, 1)\n",
            "Iteration i:  1\n",
            "Testloader X_batch.shape =  torch.Size([16, 60])\n",
            "Testloader y_batch.shape =  torch.Size([16, 1])\n",
            "yhat.shape =  (16, 1)\n",
            "yact.shape =  (16, 1)\n",
            "Iteration i:  2\n",
            "Testloader X_batch.shape =  torch.Size([16, 60])\n",
            "Testloader y_batch.shape =  torch.Size([16, 1])\n",
            "yhat.shape =  (16, 1)\n",
            "yact.shape =  (16, 1)\n",
            "Iteration i:  3\n",
            "Testloader X_batch.shape =  torch.Size([14, 60])\n",
            "Testloader y_batch.shape =  torch.Size([14, 1])\n",
            "yhat.shape =  (14, 1)\n",
            "yact.shape =  (14, 1)\n",
            "Accuracy = 0.823\n"
          ]
        }
      ],
      "source": [
        "# evaluate the model\n",
        "predictions, actuals = list(), list()\n",
        "model.eval()\n",
        "for i, (X_batch, y_batch) in enumerate(testloader):\n",
        "  print(\"Iteration i: \", i)\n",
        "  print(\"Testloader X_batch.shape = \", X_batch.shape)\n",
        "  print(\"Testloader y_batch.shape = \", y_batch.shape)\n",
        "\n",
        "  # evaluate the model on the test set\n",
        "  yhat = model(X_batch)\n",
        "  yhat = yhat.detach().numpy()\n",
        "  yact = y_batch.numpy()\n",
        "  yact = yact.reshape((len(yact), 1))\n",
        "\n",
        "  print(\"yhat.shape = \", yhat.shape)\n",
        "  print(\"yact.shape = \", yact.shape)\n",
        "\n",
        "  # round to class values\n",
        "  yhat = yhat.round()\n",
        "  # store\n",
        "  predictions.append(yhat)\n",
        "  actuals.append(yact)\n",
        "\n",
        "predictions, actuals = vstack(predictions), vstack(actuals)\n",
        "# calculate accuracy\n",
        "acc = accuracy_score(actuals, predictions)\n",
        "print('Accuracy = %.3f' % acc)"
      ]
    }
  ],
  "metadata": {
    "colab": {
      "provenance": [],
      "authorship_tag": "ABX9TyOzi+N0k9ulB9sThEFY0CGD",
      "include_colab_link": true
    },
    "kernelspec": {
      "display_name": "Python 3",
      "name": "python3"
    },
    "language_info": {
      "name": "python"
    }
  },
  "nbformat": 4,
  "nbformat_minor": 0
}